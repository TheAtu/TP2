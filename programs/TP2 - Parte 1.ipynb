{
 "cells": [
  {
   "cell_type": "markdown",
   "metadata": {},
   "source": [
    "# tp"
   ]
  },
  {
   "cell_type": "markdown",
   "metadata": {},
   "source": [
    "## Setup\n"
   ]
  },
  {
   "cell_type": "code",
   "execution_count": 94,
   "metadata": {},
   "outputs": [],
   "source": [
    "# IMPORTAR LIBRARIES\n",
    "import pandas as pd #se utiliza desde el inciso a)\n",
    "import matplotlib.pyplot as plt #se utiliza desde el inciso c)\n",
    "# !pip install seaborn\n",
    "import seaborn as sns #se utiliza desde el inciso d)"
   ]
  },
  {
   "cell_type": "code",
   "execution_count": 95,
   "metadata": {},
   "outputs": [],
   "source": [
    "#DIRECTORIES\n",
    "output_dir = '../output/'\n",
    "input_dir = '../input/'\n",
    "\n",
    "#a\n",
    "EPH_excel_dir = input_dir + 'EPH_usu_1er_Trim_2023_xlsx/usu_individual_T123.xlsx'\n",
    "#c\n",
    "graph_2c_comp_gender = output_dir+'[2c] grafico_comp_gender.png'\n",
    "table_2f_selected_cols_dir = output_dir+'[2f] tabla_output_sel_columns.csv'"
   ]
  },
  {
   "cell_type": "markdown",
   "metadata": {},
   "source": [
    "## 2."
   ]
  },
  {
   "cell_type": "markdown",
   "metadata": {},
   "source": [
    "###  a)"
   ]
  },
  {
   "cell_type": "code",
   "execution_count": 96,
   "metadata": {},
   "outputs": [],
   "source": [
    "#utilizando el archivo referenciado previamente creamos un dataframe\n",
    "dataframe = pd.read_excel(EPH_excel_dir)\n",
    "\n",
    "datos = dataframe.copy() #se copian para no modificar los originales\n",
    "\n",
    "# Guardamos a los que son del AMBA\n",
    "df_EPH_AMBA = datos[datos['AGLOMERADO'].isin([32, 33])]"
   ]
  },
  {
   "cell_type": "markdown",
   "metadata": {},
   "source": [
    "### b)"
   ]
  },
  {
   "cell_type": "code",
   "execution_count": 97,
   "metadata": {},
   "outputs": [],
   "source": [
    "# b\n",
    "df_EPH_AMBA = df_EPH_AMBA.drop(df_EPH_AMBA[df_EPH_AMBA['PP08D1'] <= 0].index)\n",
    "\n",
    "df_EPH_AMBA = df_EPH_AMBA.drop(df_EPH_AMBA[df_EPH_AMBA['CH06'] <= 0].index)\n",
    "\n",
    "df_EPH_AMBA = df_EPH_AMBA.drop(df_EPH_AMBA[df_EPH_AMBA['ITF'] <= 0].index)\n",
    "\n",
    "df_EPH_AMBA = df_EPH_AMBA.drop(df_EPH_AMBA[df_EPH_AMBA['IPCF'] <= 0].index)"
   ]
  },
  {
   "cell_type": "markdown",
   "metadata": {},
   "source": [
    "### c)"
   ]
  },
  {
   "cell_type": "code",
   "execution_count": 98,
   "metadata": {},
   "outputs": [
    {
     "data": {
      "image/png": "[encoded data removed]",
      "text/plain": [
       "<Figure size 640x480 with 1 Axes>"
      ]
     },
     "metadata": {},
     "output_type": "display_data"
    }
   ],
   "source": [
    "# c\n",
    "datos['mujer'] = (datos['CH04'] == 1).astype(int)\n",
    "datos['hombre'] = (datos['CH04'] == 2).astype(int)\n",
    "\n",
    "# Datos para el gráfico de barras\n",
    "total_mujeres = datos['mujer'].sum()\n",
    "total_hombres = datos['hombre'].sum()\n",
    "prop_m = total_mujeres / len(datos)\n",
    "prop_h = total_hombres / len(datos)\n",
    "\n",
    "# Colores para las barras\n",
    "colores = ['purple', 'blue']\n",
    "\n",
    "# Crear el gráfico de barras con las proporciones\n",
    "plt.bar(['Mujer', 'Hombre'], [prop_m, prop_h], color=colores)\n",
    "\n",
    "# Etiquetas para el gráfico\n",
    "plt.xlabel('Género')\n",
    "plt.ylabel('Proporción')\n",
    "plt.title('Composición por género de la muestra')\n",
    "\n",
    "#Guardar Grafico\n",
    "plt.savefig(graph_2c_comp_gender, format='png')\n",
    "\n",
    "# Mostrar el gráfico\n",
    "plt.show()\n"
   ]
  },
  {
   "cell_type": "markdown",
   "metadata": {},
   "source": [
    "### d)"
   ]
  },
  {
   "cell_type": "code",
   "execution_count": 99,
   "metadata": {},
   "outputs": [
    {
     "ename": "AttributeError",
     "evalue": "module 'pandas' has no attribute 'df_EPH_AMBA'",
     "output_type": "error",
     "traceback": [
      "\u001b[0;31m---------------------------------------------------------------------------\u001b[0m",
      "\u001b[0;31mAttributeError\u001b[0m                            Traceback (most recent call last)",
      "Cell \u001b[0;32mIn[99], line 6\u001b[0m\n\u001b[1;32m      3\u001b[0m df_EPH_AMBA\u001b[38;5;241m.\u001b[39mrename(columns\u001b[38;5;241m=\u001b[39m{\u001b[38;5;124m'\u001b[39m\u001b[38;5;124mCH07\u001b[39m\u001b[38;5;124m'\u001b[39m: \u001b[38;5;124m'\u001b[39m\u001b[38;5;124mEstado Civil\u001b[39m\u001b[38;5;124m'\u001b[39m}, inplace\u001b[38;5;241m=\u001b[39m\u001b[38;5;28;01mTrue\u001b[39;00m)\n\u001b[1;32m      4\u001b[0m df_EPH_AMBA\u001b[38;5;241m.\u001b[39mrename(columns\u001b[38;5;241m=\u001b[39m{\u001b[38;5;124m'\u001b[39m\u001b[38;5;124mCH08\u001b[39m\u001b[38;5;124m'\u001b[39m: \u001b[38;5;124m'\u001b[39m\u001b[38;5;124mCobertura Medica\u001b[39m\u001b[38;5;124m'\u001b[39m}, inplace\u001b[38;5;241m=\u001b[39m\u001b[38;5;28;01mTrue\u001b[39;00m)\n\u001b[0;32m----> 6\u001b[0m d \u001b[38;5;241m=\u001b[39m \u001b[43mpd\u001b[49m\u001b[38;5;241;43m.\u001b[39;49m\u001b[43mdf_EPH_AMBA\u001b[49m({df_EPH_AMBA[\u001b[38;5;124m'\u001b[39m\u001b[38;5;124mGenero\u001b[39m\u001b[38;5;124m'\u001b[39m], df_EPH_AMBA[\u001b[38;5;124m'\u001b[39m\u001b[38;5;124mEstado Civil\u001b[39m\u001b[38;5;124m'\u001b[39m], df_EPH_AMBA[\u001b[38;5;124m'\u001b[39m\u001b[38;5;124mCobertura Medica\u001b[39m\u001b[38;5;124m'\u001b[39m], df_EPH_AMBA[\u001b[38;5;124m'\u001b[39m\u001b[38;5;124mNIVEL_ED\u001b[39m\u001b[38;5;124m'\u001b[39m], df_EPH_AMBA[\u001b[38;5;124m'\u001b[39m\u001b[38;5;124mESTADO\u001b[39m\u001b[38;5;124m'\u001b[39m], df_EPH_AMBA[\u001b[38;5;124m'\u001b[39m\u001b[38;5;124mCAT_INAC\u001b[39m\u001b[38;5;124m'\u001b[39m], df_EPH_AMBA[\u001b[38;5;124m'\u001b[39m\u001b[38;5;124mIPCF\u001b[39m\u001b[38;5;124m'\u001b[39m]})\n\u001b[1;32m      7\u001b[0m sns\u001b[38;5;241m.\u001b[39mheatmap(d\u001b[38;5;241m.\u001b[39mcorr(), vmin\u001b[38;5;241m=\u001b[39m\u001b[38;5;241m-\u001b[39m\u001b[38;5;241m1\u001b[39m, vmax\u001b[38;5;241m=\u001b[39m\u001b[38;5;241m+\u001b[39m\u001b[38;5;241m1\u001b[39m, annot\u001b[38;5;241m=\u001b[39m\u001b[38;5;28;01mTrue\u001b[39;00m, cmap\u001b[38;5;241m=\u001b[39m\u001b[38;5;124m\"\u001b[39m\u001b[38;5;124mcoolwarm\u001b[39m\u001b[38;5;124m\"\u001b[39m)\n",
      "\u001b[0;31mAttributeError\u001b[0m: module 'pandas' has no attribute 'df_EPH_AMBA'"
     ]
    }
   ],
   "source": [
    "# d\n",
    "df_EPH_AMBA.rename(columns={'CH04': 'Genero'}, inplace=True)\n",
    "df_EPH_AMBA.rename(columns={'CH07': 'Estado Civil'}, inplace=True)\n",
    "df_EPH_AMBA.rename(columns={'CH08': 'Cobertura Medica'}, inplace=True)\n",
    "\n",
    "d = pd.df_EPH_AMBA({df_EPH_AMBA['Genero'], df_EPH_AMBA['Estado Civil'], df_EPH_AMBA['Cobertura Medica'], df_EPH_AMBA['NIVEL_ED'], df_EPH_AMBA['ESTADO'], df_EPH_AMBA['CAT_INAC'], df_EPH_AMBA['IPCF']})\n",
    "sns.heatmap(d.corr(), vmin=-1, vmax=+1, annot=True, cmap=\"coolwarm\")"
   ]
  },
  {
   "cell_type": "markdown",
   "metadata": {},
   "source": [
    "### e)"
   ]
  },
  {
   "cell_type": "code",
   "execution_count": 100,
   "metadata": {},
   "outputs": [],
   "source": [
    "# e\n",
    "df_EPH_AMBA['unem'] = (df_EPH_AMBA['ESTADO'] == 2).astype(int)\n",
    "df_EPH_AMBA['emp'] = (df_EPH_AMBA['ESTADO'] == 1).astype(int)\n",
    "df_EPH_AMBA['inac'] = (df_EPH_AMBA['ESTADO'] == 3).astype(int)\n",
    "\n",
    "total_emp = df_EPH_AMBA['emp'].sum()\n",
    "total_unemp = df_EPH_AMBA['unem'].sum()\n",
    "total_inac= df_EPH_AMBA['inac'].sum()\n",
    "\n",
    "media_unem = df_EPH_AMBA[df_EPH_AMBA['unem'] == 1]['IPCF'].mean()\n",
    "media_emp = df_EPH_AMBA[df_EPH_AMBA['emp'] == 1]['IPCF'].mean()\n",
    "media_inac = df_EPH_AMBA[df_EPH_AMBA['inac'] == 1]['IPCF'].mean()"
   ]
  },
  {
   "cell_type": "markdown",
   "metadata": {},
   "source": [
    "### f)\n",
    "Utilizando el archivo tabla `adulto_equiv.xlsx`, agreguen a su base de datos una columna llamada `adulto_equiv` que contenga los valores de adulto equivalente de cada persona según su sexo y edad (por ejemplo, a un varón de 2 años le corresponde 0.46). Finalmente, con el comando `groupby` sumen esta nueva columna para las personas que pertenecen a un mismo hogar y guarden ese dato en una columna llamada `ad_equiv_hogar`"
   ]
  },
  {
   "cell_type": "markdown",
   "metadata": {},
   "source": [
    "##### Ejemplos\n",
    "[1] Si una familia está compuesta por:\n",
    "1. Un varón de 40 años (`adulto_equiv = 1`)\n",
    "2. y su esposa de la misma edad (`adulto_equiv = 0.77`)\n",
    "3. y **4.** con sus mellizos varones de 5 años (`adulto_equiv = 0.60` cada uno)\n",
    "\n",
    "A todos se les debería imputar en `ad_equiv_hogar = 2.97`, que es la cantidad de adultos equivalentes en ese hogar.\n",
    "\n",
    "[2] \n",
    "| descripcion |sexo | edad | score |\n",
    "| --- | --- | --- | --- |\n",
    "|mujer de 35 años | f | 30-45 | 0.77 |\n",
    "|su hijo de 18 años | m | 18-29 | 1.02 |\n",
    "|su madre de 61 años | f | 61-75 | 0.67 |\n",
    "| **TOTAL** | | | **2.46** |\n",
    "\n",
    "[3] \n",
    "| descripcion |sexo | edad | score |\n",
    "| --- | --- | --- | --- |\n",
    "| varón de 35 años | m | 30-45 | 1.00 |\n",
    "| mujer de 31 años | f | 30-45 | 0.77 |\n",
    "| hijo de 6 años | m | 6 | 0.64 |\n",
    "| hija de 8 años | f | 8 | 0.68 |\n",
    "| **TOTAL** | | | **3.09** |\n",
    "\n",
    "[4] \n",
    "| descripcion |sexo | edad | score |\n",
    "| --- | --- | --- | --- |\n",
    "| varón de 30 años | m | 30-45 | 1.00 |\n",
    "| mujer de 30 años | f | 30-45 | 0.77 |\n",
    "| hijo de 5 años | m | 5 | 0.60 |\n",
    "| hijo de 3 años | m | 3 | 0.51 |\n",
    "| hijo de 1 años | m | 1 | 0.37 |\n",
    "| **TOTAL** | | | **3.25** |\t\t \t\t\t "
   ]
  },
  {
   "cell_type": "markdown",
   "metadata": {},
   "source": [
    "#### Tabla de equivalencias de necesidades energéticas. \n",
    "Unidades de adulto equivalente, según sexo y edad\n",
    "\n",
    "| Edad (años)\t| Mujeres |\tVarones |\n",
    "| -- | -- | -- |\n",
    "| < 1 | 0.35 | 0.35 |\n",
    "| 1 | 0.37 | 0.37 |\n",
    "| 2 | 0.46 | 0.46 |\n",
    "| 3 | 0.51 | 0.51 |\n",
    "| 4 | 0.55 | 0.55 |\n",
    "| 5 | 0.60 | 0.60 |\n",
    "| 6 | 0.64 | 0.64 |\n",
    "| 7 | 0.66 | 0.66 |\n",
    "| 8 | 0.68 | 0.68 |\n",
    "| 9 | 0.69 | 0.69 |\n",
    "| 10 | 0.70 | 0.79 |\n",
    "| 11 | 0.72 | 0.82 |\n",
    "| 12 | 0.74 | 0.85 |\n",
    "| 13 | 0.76 | 0.90 |\n",
    "| 14 | 0.76 | 0.96 |\n",
    "| 15 | 0.77 | 1.00 |\n",
    "| 16 | 0.77 | 1.03 |\n",
    "| 17 | 0.77 | 1.04 |\n",
    "| 18-29 | 0.76 | 1.02 |\n",
    "| 30-45 | 0.77 | 1.00 |\n",
    "| 46-60 | 0.76 | 1.00 |\n",
    "| 61-75 | 0.67 | 0.83 |\n",
    "| < 75 | 0.63 | 0.74 |\n"
   ]
  },
  {
   "cell_type": "markdown",
   "metadata": {},
   "source": [
    "#### Codigo 2-f"
   ]
  },
  {
   "cell_type": "code",
   "execution_count": 101,
   "metadata": {},
   "outputs": [],
   "source": [
    "# Definir la tabla de equivalencias necesarias eneréticas según edad y sexo\n",
    "equiv_energ = { \n",
    "  1 : { #si es 1 = Varón\n",
    "    (0, 0.99): 0.35, #0.35 es el valor de un varón menor a 1 año\n",
    "    (1, 1): 0.37,\n",
    "    (2, 2): 0.46,\n",
    "    (3, 3): 0.51,\n",
    "    (4, 4): 0.55,\n",
    "    (5, 5): 0.6,\n",
    "    (6, 6): 0.64,\n",
    "    (7, 7): 0.66,\n",
    "    (8, 8): 0.68,\n",
    "    (9, 9): 0.69,\n",
    "    (10, 10): 0.79,\n",
    "    (11, 11): 0.82,\n",
    "    (12, 12): 0.85,\n",
    "    (13, 13): 0.9,\n",
    "    (14, 14): 0.96,\n",
    "    (15, 15): 1,\n",
    "    (16, 16): 1.03,\n",
    "    (17, 17): 1.04,\n",
    "    (18, 29): 1.02,\n",
    "    (30, 45): 1,\n",
    "    (46, 60): 1,\n",
    "    (61, 75): 0.83,\n",
    "    (75, 200): 0.74\n",
    "  },\n",
    "  2 : { #si es 2 = Mujer\n",
    "    (0, 0.99): 0.35,\n",
    "    (1, 1): 0.37,\n",
    "    (2, 2): 0.46,\n",
    "    (3, 3): 0.51,\n",
    "    (4, 4): 0.55,\n",
    "    (5, 5): 0.6,\n",
    "    (6, 6): 0.64,\n",
    "    (7, 7): 0.66,\n",
    "    (8, 8): 0.68,\n",
    "    (9, 9): 0.69,\n",
    "    (10, 10): 0.7,\n",
    "    (11, 11): 0.72,\n",
    "    (12, 12): 0.74,\n",
    "    (13, 13): 0.76,\n",
    "    (14, 14): 0.76,\n",
    "    (15, 15): 0.77,\n",
    "    (16, 16): 0.77,\n",
    "    (17, 17): 0.77,\n",
    "    (18, 29): 0.76,\n",
    "    (30, 45): 0.77,\n",
    "    (46, 60): 0.76,\n",
    "    (61, 75): 0.67,\n",
    "    (75, 200): 0.63\n",
    "    }\n",
    "}"
   ]
  },
  {
   "cell_type": "code",
   "execution_count": 102,
   "metadata": {},
   "outputs": [],
   "source": [
    "#Función para calcular 'adulto_equiv' basado en la edad y el sexo\n",
    "def calculate_adulto_equiv(row):\n",
    "  age = row['Edad'] #Obterner valor de \"edad\" del la row del df\n",
    "  sex = row['Genero'] #Obterner valor de \"edad\" del la row del df\n",
    "  \n",
    "  if sex in equiv_energ: #Verificar,por las dudas, si el sexo está en el dic\n",
    "     # Loopear los rangos de edad y valores en el dic\n",
    "    for (start, end), value in equiv_energ[sex].items():\n",
    "        if start <= age <= end: \n",
    "            return value #Devolver el valor correcto, si la edad está en el rango\n",
    "  else: \n",
    "    print(f'Not found [age:{age}, sex:{sex}]')\n",
    "  \n",
    "  return 0 #devolver 0 como valor predeterminado"
   ]
  },
  {
   "cell_type": "code",
   "execution_count": 103,
   "metadata": {},
   "outputs": [],
   "source": [
    "df_EPH_AMBA.rename(columns={'CH06': 'Edad'}, inplace=True)\n",
    "\n",
    "df_EPH_AMBA['adulto_equiv'] = df_EPH_AMBA.apply( #guarda el resultado de la funcion\n",
    "    lambda row: calculate_adulto_equiv(row), axis=1)#Aplica calculate_adulto_equiv a cada fila del df\n",
    "\n",
    "#Obtener 'ad_equiv_hogar' para cada row del df con groupby y transform\n",
    "df_EPH_AMBA['ad_equiv_hogar'] = df_EPH_AMBA.groupby('CODUSU')['adulto_equiv'].transform('sum')\n",
    "#Por el problema: base2 & floating point -> redondeamos a 2 decimales(estandar en esta base de datos)\n",
    "df_EPH_AMBA['ad_equiv_hogar'] = df_EPH_AMBA['ad_equiv_hogar'].round(2)"
   ]
  },
  {
   "cell_type": "code",
   "execution_count": 104,
   "metadata": {},
   "outputs": [],
   "source": [
    "#Exportar .csv de los datos relacionados con el inciso para verificar:\n",
    "# Seleccionamos las columnas relevantes\n",
    "columns_to_keep = ['CODUSU','COMPONENTE', 'Edad', 'Genero', 'adulto_equiv','ad_equiv_hogar']\n",
    "# Creamos un df solo con las columnas seleccionadas\n",
    "selected_columns_df = df_EPH_AMBA.loc[:, columns_to_keep]\n",
    "# Salvamos df a .csv\n",
    "selected_columns_df.to_csv(table_2f_selected_cols_dir, index=False)"
   ]
  }
 ],
 "metadata": {
  "kernelspec": {
   "display_name": "Python 3.9.13 64-bit ('pyEnv-Tmp')",
   "language": "python",
   "name": "python3"
  },
  "language_info": {
   "codemirror_mode": {
    "name": "ipython",
    "version": 3
   },
   "file_extension": ".py",
   "mimetype": "text/x-python",
   "name": "python",
   "nbconvert_exporter": "python",
   "pygments_lexer": "ipython3",
   "version": "3.9.13"
  },
  "orig_nbformat": 4,
  "vscode": {
   "interpreter": {
    "hash": "c624079bdbcdf559a5caa27822ba1284677e01b949e217d00eab1893de7b1b76"
   }
  }
 },
 "nbformat": 4,
 "nbformat_minor": 2
}
